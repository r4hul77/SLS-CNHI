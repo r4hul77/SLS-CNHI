{
 "cells": [
  {
   "cell_type": "code",
   "execution_count": 1,
   "metadata": {},
   "outputs": [],
   "source": [
    "import pandas as pd"
   ]
  },
  {
   "cell_type": "code",
   "execution_count": 2,
   "metadata": {},
   "outputs": [],
   "source": [
    "gps_data = pd.read_csv('2_6mph_2_data.csv')"
   ]
  },
  {
   "cell_type": "code",
   "execution_count": 3,
   "metadata": {},
   "outputs": [],
   "source": [
    "def check_consistency(pd_data_frame, bins={}):\n",
    "    prev = None\n",
    "    count = 1\n",
    "    for i in range(gps_data.shape[0]):\n",
    "        if(prev):\n",
    "            if(gps_data.iloc[i, 1] != prev):\n",
    "                prev = gps_data.iloc[i, 1]\n",
    "                if(count in bins.keys()):\n",
    "                    bins[count] += 1\n",
    "                else:\n",
    "                    bins[count] = 1\n",
    "                count = 1\n",
    "            else:\n",
    "                count += 1\n",
    "        else:\n",
    "            prev = gps_data.iloc[i, 1]\n",
    "    return bins"
   ]
  },
  {
   "cell_type": "code",
   "execution_count": null,
   "metadata": {},
   "outputs": [],
   "source": []
  }
 ],
 "metadata": {
  "kernelspec": {
   "display_name": "Python 3",
   "language": "python",
   "name": "python3"
  },
  "language_info": {
   "codemirror_mode": {
    "name": "ipython",
    "version": 3
   },
   "file_extension": ".py",
   "mimetype": "text/x-python",
   "name": "python",
   "nbconvert_exporter": "python",
   "pygments_lexer": "ipython3",
   "version": "3.8.10"
  }
 },
 "nbformat": 4,
 "nbformat_minor": 4
}
